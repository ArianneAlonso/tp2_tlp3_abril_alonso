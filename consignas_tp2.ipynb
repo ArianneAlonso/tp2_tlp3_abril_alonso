{
 "cells": [
  {
   "cell_type": "markdown",
   "metadata": {},
   "source": [
    "# Criterios de evaluación.\n",
    "\n",
    "* Se deben utilizar nombres de variables descriptivos y claros.\n",
    "* Cada ejercicio debe ser realizado utilizando **FUNCIONES**, NO solo codigo suelto.\n",
    "* Comentarios claros y concisos que expliquen el propósito de cada sección del código.\n",
    "* Entrega en tiempo y forma.\n",
    "* Todo el código desarrollado debe ser subido a un repositorio en GitHub.\n",
    "\n",
    "\n",
    "**Aclaración: Para resolver las actividades se debe incertar casillas de codigo entre cada actividad del cuaderno de Jupyter**"
   ]
  },
  {
   "cell_type": "markdown",
   "metadata": {},
   "source": [
    "### 1. **Bucles**\n",
    "\n",
    "   - **Actividad 1.1**: Escribir un programa que muestre el print de todo lo que el usuario introduzca hasta que el usuario escriba “salir” que terminará.\n",
    "   \n",
    "   - **Actividad 1.2**: Escribir un programa que pida al usuario un número entero y muestre por pantalla un triángulo rectángulo como el de más abajo con la cantidad de escalones indicados previamente (los numeros dentro del triangulo deben ser enteros aleatorios del 0 al 9).\n",
    "* 1\n",
    "* 3 1\n",
    "* 5 3 1\n",
    "* 7 5 3 1\n",
    "* 9 7 5 3 1"
   ]
  },
  {
   "cell_type": "code",
   "execution_count": 13,
   "metadata": {},
   "outputs": [
    {
     "name": "stdout",
     "output_type": "stream",
     "text": [
      "vkjbubvorbsv\n",
      "dfcbsuidbvuso\n",
      "dfbsudivbusdbv\n"
     ]
    }
   ],
   "source": [
    "\n",
    "# todo: Resolución\n",
    "# ! 1\n",
    "\n",
    "def bucle():\n",
    "    while True:\n",
    "        escribir = input('escribe')\n",
    "        if 'salir' in escribir.lower():\n",
    "            break\n",
    "        print(escribir)\n",
    "        \n",
    "bucle()"
   ]
  },
  {
   "cell_type": "code",
   "execution_count": null,
   "metadata": {},
   "outputs": [
    {
     "name": "stdout",
     "output_type": "stream",
     "text": [
      "8\n",
      "8 5\n",
      "8 5 2\n",
      "8 5 2 3\n",
      "8 5 2 3 6\n",
      "8 5 2 3 6 9\n"
     ]
    }
   ],
   "source": [
    "\n",
    "# todo: resolución\n",
    "\n",
    "# ! 2\n",
    "\n",
    "def triangulo():\n",
    "    escribir = input('ingresa numeros enteros del 0 al 9 separados por espacio: ')\n",
    "    \n",
    "    try:\n",
    "        numeros = list(map(int, escribir.strip().split()))\n",
    "    except ValueError:\n",
    "        print(\"solo se permiten numeros enteros\")\n",
    "        return\n",
    "\n",
    "    if not all(0 <= n <= 9 for n in numeros):\n",
    "        print(\"solo se ppermiten numero del 0 al 9\")\n",
    "        return\n",
    "\n",
    "    for i in range(1, len(numeros) + 1):\n",
    "        fila = [str(n) for n in numeros[:i]]\n",
    "        print(\" \".join(fila))\n",
    "\n",
    "\n",
    "triangulo()"
   ]
  },
  {
   "cell_type": "markdown",
   "metadata": {},
   "source": [
    "### 2. **Listas y Tuplas**\n",
    "\n",
    "   - **Actividad 1**: Escribir un programa que pida al usuario una frase y muestre por pantalla el número de veces que contiene cada vocal y la cantidad de espacios en blanco.\n",
    "\n",
    "   - **Actividad 2**: Escribir un programa que cree una matriz (con numeros aleatorios del 1 al 100) usando las dimensiones de X e Y que el usuario deberia ingresar por consola, luego crea una tupla con la matriz transpuesta y por ultimo las muestra ambas por consola .\n",
    "\n",
    "   - **Actividad 3**: Escribir un programa que almacene en una lista los siguientes precios, 50, 75, 46, 22, 80, 65, 8, y muestre por pantalla el menor y el mayor de los precios"
   ]
  },
  {
   "cell_type": "code",
   "execution_count": null,
   "metadata": {},
   "outputs": [
    {
     "name": "stdout",
     "output_type": "stream",
     "text": [
      "la oracion ( hola arianne ) tiene:  {'a': 3, 'e': 1, 'i': 1, 'o': 1, 'u': 0, 'espacios': 1}\n"
     ]
    }
   ],
   "source": [
    "\n",
    "# todo: Resolución\n",
    "\n",
    "# ! 1\n",
    "\n",
    "def contador_vocales_espacios():\n",
    "    oracion = input('Escribí una oración: ')\n",
    "    \n",
    "    resultado = {vocal: oracion.lower().count(vocal) for vocal in \"aeiou\"}\n",
    "    resultado[\"espacios\"] = oracion.count(\" \")\n",
    "    \n",
    "    print(\"la oracion (\", oracion ,  \") tiene: \", resultado )\n",
    "\n",
    "contador_vocales_espacios()\n"
   ]
  },
  {
   "cell_type": "code",
   "execution_count": 8,
   "metadata": {},
   "outputs": [],
   "source": [
    "\n",
    "# todo: Resolución\n",
    "\n",
    "# ! 2"
   ]
  },
  {
   "cell_type": "code",
   "execution_count": 48,
   "metadata": {},
   "outputs": [
    {
     "name": "stdout",
     "output_type": "stream",
     "text": [
      "8 , 80\n"
     ]
    }
   ],
   "source": [
    "\n",
    "# todo: Resolución\n",
    "\n",
    "# ! 3\n",
    "\n",
    "def precios_ascendentes():\n",
    "    precios = [50, 75, 46, 22, 80, 65, 8]\n",
    "    print(min(precios),\",\", max(precios))\n",
    "    \n",
    "precios_ascendentes()"
   ]
  },
  {
   "cell_type": "markdown",
   "metadata": {},
   "source": [
    "### 3. **Diccionarios**\n",
    "\n",
    "   - **Actividad 1**: Escribir un programa que cree un diccionario simulando una cesta de la compra. El programa debe preguntar el artículo y su precio y añadir el par al diccionario, hasta que el usuario decida terminar. Después se debe mostrar por pantalla la lista de la compra y el coste total, con el siguiente formato.\n",
    "\n",
    "   | arts  |precio |\n",
    "   |-------|-------|\n",
    "   |art 1  |1      |\n",
    "   |art 2  |2      |\n",
    "   |art 3  |3      |\n",
    "   |total  |6      |\n",
    "\n",
    "   - **Actividad 2**: Escribir un programa que cree un diccionario de traducción español-inglés. El usuario introducirá las palabras en español e inglés separadas por dos puntos, y cada par <palabra> : <traducción> separados por comas (es decir, solo se debe usar **UNA VEZ** la función input para la carga de palabras). El programa debe crear un diccionario con las palabras y sus traducciones. Después pedirá una frase en español y utilizará el diccionario para traducirla palabra a palabra. Si una palabra no está en el diccionario debe dejarla sin traducir.\n",
    "\n",
    "   - **Actividad 3**: Escribir un programa que reciba una cadena de caracteres y devuelva un diccionario con cada palabra que contiene y su frecuencia. Escribir otra función que reciba el diccionario generado con la función anterior y devuelva una tupla con la palabra más repetida y su frecuencia."
   ]
  },
  {
   "cell_type": "code",
   "execution_count": null,
   "metadata": {},
   "outputs": [
    {
     "name": "stdout",
     "output_type": "stream",
     "text": [
      "Artículo Precio\n",
      "sjgndfbn 15188512.0\n",
      "bdfbdfb 51416.0\n",
      "Total: 15239928.0\n"
     ]
    }
   ],
   "source": [
    "\n",
    "# todo: Resolución\n",
    "\n",
    "# ! 1\n",
    "\n",
    "def compra():\n",
    "    articulos = []\n",
    "    precios = []\n",
    "\n",
    "    while True:\n",
    "        articulo = input(\"escribe el nombre del artículo o 'salir' para terminar: \")\n",
    "        if articulo.lower() == 'salir':\n",
    "            break\n",
    "        try:\n",
    "            precio = float(input(\"ingresa el precio del articulo en numeros: \"))\n",
    "            articulos.append(articulo)\n",
    "            precios.append(precio)\n",
    "        except ValueError:\n",
    "            print(\"solo se permiten numeros\")\n",
    "\n",
    "    cesta = dict(zip(articulos, precios))\n",
    "\n",
    "    print(\"articulo precio\")\n",
    "\n",
    "    total = 0\n",
    "    for art, precio in cesta.items():\n",
    "        print(art, precio)\n",
    "        total += precio\n",
    "    print(\"total:\", total)\n",
    "\n",
    "compra()"
   ]
  },
  {
   "cell_type": "code",
   "execution_count": null,
   "metadata": {},
   "outputs": [],
   "source": [
    "\n",
    "# todo: Resolución\n",
    "\n",
    "# ! 2\n",
    "\n"
   ]
  },
  {
   "cell_type": "code",
   "execution_count": null,
   "metadata": {},
   "outputs": [],
   "source": [
    "\n",
    "# todo: Resolución\n",
    "\n",
    "# ! 3\n",
    "\n"
   ]
  },
  {
   "cell_type": "markdown",
   "metadata": {},
   "source": [
    "### 4. **Funciones**\n",
    "\n",
    "- **Actividad 1**: Escribir una función que calcule el total de una factura tras aplicarle el IVA. La función debe recibir la cantidad sin IVA y el porcentaje de IVA a aplicar, y devolver el total de la factura. Si se invoca la función sin pasarle el porcentaje de IVA, deberá aplicar un 21%.\n",
    "\n",
    "- **Actividad 2**: Escribir una función que reciba un número entero positivo y devuelva su factorial.\n"
   ]
  },
  {
   "cell_type": "code",
   "execution_count": 62,
   "metadata": {},
   "outputs": [
    {
     "name": "stdout",
     "output_type": "stream",
     "text": [
      "la factura con iva es:  484.0\n"
     ]
    }
   ],
   "source": [
    "\n",
    "# todo: Resolución\n",
    "\n",
    "# ! 1\n",
    "\n",
    "def calculo_de_iva():\n",
    "    \n",
    "    factura = float(input(\"ingresar el total de la factura al aqe quiera sacar el precio con iva\"))\n",
    "    \n",
    "    porcentaje_iva = input(\"ingresa el porcentaje de iva qe quiera aplicar a la factura\")\n",
    "    if porcentaje_iva.strip() == \"\":\n",
    "        iva = 21\n",
    "    else:\n",
    "        iva = float(porcentaje_iva)\n",
    "        \n",
    "    precio_con_iva = factura + ((factura/100)*iva)\n",
    "    print(\"la factura con iva es: \", precio_con_iva)\n",
    "    \n",
    "calculo_de_iva()"
   ]
  },
  {
   "cell_type": "code",
   "execution_count": null,
   "metadata": {},
   "outputs": [
    {
     "name": "stdout",
     "output_type": "stream",
     "text": [
      "El factorial de 56 es: 710998587804863451854045647463724949736497978881168458687447040000000000000\n"
     ]
    }
   ],
   "source": [
    "\n",
    "# todo: Resolución\n",
    "\n",
    "# ! 2\n",
    "\n",
    "def factorial():\n",
    "    numero = int(input(\"ingresa un numero entero positivo del que quieras saber su factorial: \"))\n",
    "    \n",
    "    resultado = 1\n",
    "    for i in range(2, numero + 1):\n",
    "        resultado *= i\n",
    "\n",
    "    print(\"el factorial de\", numero, \"es: \", resultado)\n",
    "\n",
    "factorial()\n"
   ]
  }
 ],
 "metadata": {
  "kernelspec": {
   "display_name": "Python 3",
   "language": "python",
   "name": "python3"
  },
  "language_info": {
   "codemirror_mode": {
    "name": "ipython",
    "version": 3
   },
   "file_extension": ".py",
   "mimetype": "text/x-python",
   "name": "python",
   "nbconvert_exporter": "python",
   "pygments_lexer": "ipython3",
   "version": "3.12.9"
  }
 },
 "nbformat": 4,
 "nbformat_minor": 2
}
